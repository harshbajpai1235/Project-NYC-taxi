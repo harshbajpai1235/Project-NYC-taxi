{
 "cells": [
  {
   "cell_type": "markdown",
   "id": "c9f32c40-4c68-4ac4-bb1a-93ab76e0b088",
   "metadata": {},
   "source": [
    "# Analyzing the Impact of Payment Methods on Taxi Fare Revenue\n",
    "\n",
    "\n",
    "This notebook represents the **second part of our NYC Yellow Taxi Fare Prediction project**. While the first part focused on building a machine learning model to predict taxi fare amounts based on trip attributes, **this phase shifts attention to a deeper revenue analysis—specifically examining how payment methods (e.g., cash vs. credit card) influence fare and total earnings.** To keep the workflow organized and modular, this analysis is conducted in a separate notebook, allowing us to focus exclusively on the financial implications of payment choices and their potential impact on driver revenue and rider behavior.\n",
    "\n",
    "In today’s fast-paced taxi environment, optimizing revenue streams is essential for long-term sustainability. Our central goal is to explore whether certain payment types lead to higher total fare amounts and whether behavioral nudges can guide customers toward more profitable options—without negatively affecting their experience. This notebook outlines the problem statement, defines the research question, summarizes the data, explains the methodology, presents analytical insights, performs hypothesis testing, and ends with data-backed recommendations."
   ]
  },
  {
   "cell_type": "markdown",
   "id": "c1f6f946-48db-4e3a-b97a-2c8ec65633a2",
   "metadata": {},
   "source": [
    "## Problem Statement\n",
    "\n",
    "**\"Analyze the relationship between payment methods and fare revenue, exploring whether certain payment types lead to higher earnings for drivers and whether behavioral nudges can be applied to influence payment method choice — without harming customer satisfaction.\"** <br>\n",
    "\n",
    "## Research Question \n",
    "\n",
    "**Revenue Optimization Focus**  <br>\n",
    "   \"Does the payment method (e.g., cash vs. credit card) influence the fare or total amount paid?\"<br>\n",
    "\n",
    "   \"Can we recommend a preferred payment method that increases revenue for drivers without negatively impacting customer experience?\"<br>\n",
    "\n"
   ]
  },
  {
   "cell_type": "markdown",
   "id": "99d24e5e-b6dc-48db-b61d-45489bb4bf6c",
   "metadata": {},
   "source": [
    "## Data Loading"
   ]
  },
  {
   "cell_type": "code",
   "execution_count": 714,
   "id": "09a4a0f3-ef50-44e4-9093-94affdab3dab",
   "metadata": {},
   "outputs": [],
   "source": [
    "import pandas as pd\n",
    "import matplotlib.pyplot as plt\n",
    "import seaborn as sns\n",
    "from scipy import stats\n",
    "import statsmodels.api as sm\n",
    "import warnings\n",
    "warnings.filterwarnings('ignore')"
   ]
  },
  {
   "cell_type": "code",
   "execution_count": 715,
   "id": "b889a3f9-050c-478b-91c8-9488e43cbfcb",
   "metadata": {},
   "outputs": [
    {
     "data": {
      "text/html": [
       "<div>\n",
       "<style scoped>\n",
       "    .dataframe tbody tr th:only-of-type {\n",
       "        vertical-align: middle;\n",
       "    }\n",
       "\n",
       "    .dataframe tbody tr th {\n",
       "        vertical-align: top;\n",
       "    }\n",
       "\n",
       "    .dataframe thead th {\n",
       "        text-align: right;\n",
       "    }\n",
       "</style>\n",
       "<table border=\"1\" class=\"dataframe\">\n",
       "  <thead>\n",
       "    <tr style=\"text-align: right;\">\n",
       "      <th></th>\n",
       "      <th>VendorID</th>\n",
       "      <th>tpep_pickup_datetime</th>\n",
       "      <th>tpep_dropoff_datetime</th>\n",
       "      <th>passenger_count</th>\n",
       "      <th>trip_distance</th>\n",
       "      <th>RatecodeID</th>\n",
       "      <th>store_and_fwd_flag</th>\n",
       "      <th>PULocationID</th>\n",
       "      <th>DOLocationID</th>\n",
       "      <th>payment_type</th>\n",
       "      <th>fare_amount</th>\n",
       "      <th>extra</th>\n",
       "      <th>mta_tax</th>\n",
       "      <th>tip_amount</th>\n",
       "      <th>tolls_amount</th>\n",
       "      <th>improvement_surcharge</th>\n",
       "      <th>total_amount</th>\n",
       "      <th>congestion_surcharge</th>\n",
       "    </tr>\n",
       "  </thead>\n",
       "  <tbody>\n",
       "    <tr>\n",
       "      <th>0</th>\n",
       "      <td>1.0</td>\n",
       "      <td>2020-01-01 00:28:15</td>\n",
       "      <td>2020-01-01 00:33:03</td>\n",
       "      <td>1.0</td>\n",
       "      <td>1.2</td>\n",
       "      <td>1.0</td>\n",
       "      <td>N</td>\n",
       "      <td>238</td>\n",
       "      <td>239</td>\n",
       "      <td>1.0</td>\n",
       "      <td>6.0</td>\n",
       "      <td>3.0</td>\n",
       "      <td>0.5</td>\n",
       "      <td>1.47</td>\n",
       "      <td>0.0</td>\n",
       "      <td>0.3</td>\n",
       "      <td>11.27</td>\n",
       "      <td>2.5</td>\n",
       "    </tr>\n",
       "    <tr>\n",
       "      <th>1</th>\n",
       "      <td>1.0</td>\n",
       "      <td>2020-01-01 00:35:39</td>\n",
       "      <td>2020-01-01 00:43:04</td>\n",
       "      <td>1.0</td>\n",
       "      <td>1.2</td>\n",
       "      <td>1.0</td>\n",
       "      <td>N</td>\n",
       "      <td>239</td>\n",
       "      <td>238</td>\n",
       "      <td>1.0</td>\n",
       "      <td>7.0</td>\n",
       "      <td>3.0</td>\n",
       "      <td>0.5</td>\n",
       "      <td>1.50</td>\n",
       "      <td>0.0</td>\n",
       "      <td>0.3</td>\n",
       "      <td>12.30</td>\n",
       "      <td>2.5</td>\n",
       "    </tr>\n",
       "    <tr>\n",
       "      <th>2</th>\n",
       "      <td>1.0</td>\n",
       "      <td>2020-01-01 00:47:41</td>\n",
       "      <td>2020-01-01 00:53:52</td>\n",
       "      <td>1.0</td>\n",
       "      <td>0.6</td>\n",
       "      <td>1.0</td>\n",
       "      <td>N</td>\n",
       "      <td>238</td>\n",
       "      <td>238</td>\n",
       "      <td>1.0</td>\n",
       "      <td>6.0</td>\n",
       "      <td>3.0</td>\n",
       "      <td>0.5</td>\n",
       "      <td>1.00</td>\n",
       "      <td>0.0</td>\n",
       "      <td>0.3</td>\n",
       "      <td>10.80</td>\n",
       "      <td>2.5</td>\n",
       "    </tr>\n",
       "    <tr>\n",
       "      <th>3</th>\n",
       "      <td>1.0</td>\n",
       "      <td>2020-01-01 00:55:23</td>\n",
       "      <td>2020-01-01 01:00:14</td>\n",
       "      <td>1.0</td>\n",
       "      <td>0.8</td>\n",
       "      <td>1.0</td>\n",
       "      <td>N</td>\n",
       "      <td>238</td>\n",
       "      <td>151</td>\n",
       "      <td>1.0</td>\n",
       "      <td>5.5</td>\n",
       "      <td>0.5</td>\n",
       "      <td>0.5</td>\n",
       "      <td>1.36</td>\n",
       "      <td>0.0</td>\n",
       "      <td>0.3</td>\n",
       "      <td>8.16</td>\n",
       "      <td>0.0</td>\n",
       "    </tr>\n",
       "    <tr>\n",
       "      <th>4</th>\n",
       "      <td>2.0</td>\n",
       "      <td>2020-01-01 00:01:58</td>\n",
       "      <td>2020-01-01 00:04:16</td>\n",
       "      <td>1.0</td>\n",
       "      <td>0.0</td>\n",
       "      <td>1.0</td>\n",
       "      <td>N</td>\n",
       "      <td>193</td>\n",
       "      <td>193</td>\n",
       "      <td>2.0</td>\n",
       "      <td>3.5</td>\n",
       "      <td>0.5</td>\n",
       "      <td>0.5</td>\n",
       "      <td>0.00</td>\n",
       "      <td>0.0</td>\n",
       "      <td>0.3</td>\n",
       "      <td>4.80</td>\n",
       "      <td>0.0</td>\n",
       "    </tr>\n",
       "  </tbody>\n",
       "</table>\n",
       "</div>"
      ],
      "text/plain": [
       "   VendorID tpep_pickup_datetime tpep_dropoff_datetime  passenger_count  \\\n",
       "0       1.0  2020-01-01 00:28:15   2020-01-01 00:33:03              1.0   \n",
       "1       1.0  2020-01-01 00:35:39   2020-01-01 00:43:04              1.0   \n",
       "2       1.0  2020-01-01 00:47:41   2020-01-01 00:53:52              1.0   \n",
       "3       1.0  2020-01-01 00:55:23   2020-01-01 01:00:14              1.0   \n",
       "4       2.0  2020-01-01 00:01:58   2020-01-01 00:04:16              1.0   \n",
       "\n",
       "   trip_distance  RatecodeID store_and_fwd_flag  PULocationID  DOLocationID  \\\n",
       "0            1.2         1.0                  N           238           239   \n",
       "1            1.2         1.0                  N           239           238   \n",
       "2            0.6         1.0                  N           238           238   \n",
       "3            0.8         1.0                  N           238           151   \n",
       "4            0.0         1.0                  N           193           193   \n",
       "\n",
       "   payment_type  fare_amount  extra  mta_tax  tip_amount  tolls_amount  \\\n",
       "0           1.0          6.0    3.0      0.5        1.47           0.0   \n",
       "1           1.0          7.0    3.0      0.5        1.50           0.0   \n",
       "2           1.0          6.0    3.0      0.5        1.00           0.0   \n",
       "3           1.0          5.5    0.5      0.5        1.36           0.0   \n",
       "4           2.0          3.5    0.5      0.5        0.00           0.0   \n",
       "\n",
       "   improvement_surcharge  total_amount  congestion_surcharge  \n",
       "0                    0.3         11.27                   2.5  \n",
       "1                    0.3         12.30                   2.5  \n",
       "2                    0.3         10.80                   2.5  \n",
       "3                    0.3          8.16                   0.0  \n",
       "4                    0.3          4.80                   0.0  "
      ]
     },
     "execution_count": 715,
     "metadata": {},
     "output_type": "execute_result"
    }
   ],
   "source": [
    "df = pd.read_csv('/Users/harshbajpai/Projects/NYC Taxi Fare Prediction/yellow_tripdata_2020-01.csv')\n",
    "df.head()"
   ]
  },
  {
   "cell_type": "code",
   "execution_count": 716,
   "id": "2389964c-79b5-422c-995a-3bcde6e44ffe",
   "metadata": {},
   "outputs": [
    {
     "data": {
      "text/html": [
       "<div>\n",
       "<style scoped>\n",
       "    .dataframe tbody tr th:only-of-type {\n",
       "        vertical-align: middle;\n",
       "    }\n",
       "\n",
       "    .dataframe tbody tr th {\n",
       "        vertical-align: top;\n",
       "    }\n",
       "\n",
       "    .dataframe thead th {\n",
       "        text-align: right;\n",
       "    }\n",
       "</style>\n",
       "<table border=\"1\" class=\"dataframe\">\n",
       "  <thead>\n",
       "    <tr style=\"text-align: right;\">\n",
       "      <th></th>\n",
       "      <th>VendorID</th>\n",
       "      <th>tpep_pickup_datetime</th>\n",
       "      <th>tpep_dropoff_datetime</th>\n",
       "      <th>passenger_count</th>\n",
       "      <th>trip_distance</th>\n",
       "      <th>RatecodeID</th>\n",
       "      <th>store_and_fwd_flag</th>\n",
       "      <th>PULocationID</th>\n",
       "      <th>DOLocationID</th>\n",
       "      <th>payment_type</th>\n",
       "      <th>fare_amount</th>\n",
       "      <th>extra</th>\n",
       "      <th>mta_tax</th>\n",
       "      <th>tip_amount</th>\n",
       "      <th>tolls_amount</th>\n",
       "      <th>improvement_surcharge</th>\n",
       "      <th>total_amount</th>\n",
       "      <th>congestion_surcharge</th>\n",
       "    </tr>\n",
       "  </thead>\n",
       "  <tbody>\n",
       "    <tr>\n",
       "      <th>6405003</th>\n",
       "      <td>NaN</td>\n",
       "      <td>2020-01-31 22:51:00</td>\n",
       "      <td>2020-01-31 23:22:00</td>\n",
       "      <td>NaN</td>\n",
       "      <td>3.24</td>\n",
       "      <td>NaN</td>\n",
       "      <td>NaN</td>\n",
       "      <td>237</td>\n",
       "      <td>234</td>\n",
       "      <td>NaN</td>\n",
       "      <td>17.59</td>\n",
       "      <td>2.75</td>\n",
       "      <td>0.5</td>\n",
       "      <td>0.0</td>\n",
       "      <td>0.00</td>\n",
       "      <td>0.3</td>\n",
       "      <td>21.14</td>\n",
       "      <td>0.0</td>\n",
       "    </tr>\n",
       "    <tr>\n",
       "      <th>6405004</th>\n",
       "      <td>NaN</td>\n",
       "      <td>2020-01-31 22:10:00</td>\n",
       "      <td>2020-01-31 23:26:00</td>\n",
       "      <td>NaN</td>\n",
       "      <td>22.13</td>\n",
       "      <td>NaN</td>\n",
       "      <td>NaN</td>\n",
       "      <td>259</td>\n",
       "      <td>45</td>\n",
       "      <td>NaN</td>\n",
       "      <td>46.67</td>\n",
       "      <td>2.75</td>\n",
       "      <td>0.5</td>\n",
       "      <td>0.0</td>\n",
       "      <td>12.24</td>\n",
       "      <td>0.3</td>\n",
       "      <td>62.46</td>\n",
       "      <td>0.0</td>\n",
       "    </tr>\n",
       "    <tr>\n",
       "      <th>6405005</th>\n",
       "      <td>NaN</td>\n",
       "      <td>2020-01-31 22:50:07</td>\n",
       "      <td>2020-01-31 23:17:57</td>\n",
       "      <td>NaN</td>\n",
       "      <td>10.51</td>\n",
       "      <td>NaN</td>\n",
       "      <td>NaN</td>\n",
       "      <td>137</td>\n",
       "      <td>169</td>\n",
       "      <td>NaN</td>\n",
       "      <td>48.85</td>\n",
       "      <td>2.75</td>\n",
       "      <td>0.0</td>\n",
       "      <td>0.0</td>\n",
       "      <td>0.00</td>\n",
       "      <td>0.3</td>\n",
       "      <td>51.90</td>\n",
       "      <td>0.0</td>\n",
       "    </tr>\n",
       "    <tr>\n",
       "      <th>6405006</th>\n",
       "      <td>NaN</td>\n",
       "      <td>2020-01-31 22:25:53</td>\n",
       "      <td>2020-01-31 22:48:32</td>\n",
       "      <td>NaN</td>\n",
       "      <td>5.49</td>\n",
       "      <td>NaN</td>\n",
       "      <td>NaN</td>\n",
       "      <td>50</td>\n",
       "      <td>42</td>\n",
       "      <td>NaN</td>\n",
       "      <td>27.17</td>\n",
       "      <td>2.75</td>\n",
       "      <td>0.0</td>\n",
       "      <td>0.0</td>\n",
       "      <td>0.00</td>\n",
       "      <td>0.3</td>\n",
       "      <td>30.22</td>\n",
       "      <td>0.0</td>\n",
       "    </tr>\n",
       "    <tr>\n",
       "      <th>6405007</th>\n",
       "      <td>NaN</td>\n",
       "      <td>2020-01-31 22:44:00</td>\n",
       "      <td>2020-01-31 23:06:00</td>\n",
       "      <td>NaN</td>\n",
       "      <td>11.60</td>\n",
       "      <td>NaN</td>\n",
       "      <td>NaN</td>\n",
       "      <td>179</td>\n",
       "      <td>205</td>\n",
       "      <td>NaN</td>\n",
       "      <td>54.56</td>\n",
       "      <td>2.75</td>\n",
       "      <td>0.5</td>\n",
       "      <td>0.0</td>\n",
       "      <td>0.00</td>\n",
       "      <td>0.3</td>\n",
       "      <td>58.11</td>\n",
       "      <td>0.0</td>\n",
       "    </tr>\n",
       "  </tbody>\n",
       "</table>\n",
       "</div>"
      ],
      "text/plain": [
       "         VendorID tpep_pickup_datetime tpep_dropoff_datetime  passenger_count  \\\n",
       "6405003       NaN  2020-01-31 22:51:00   2020-01-31 23:22:00              NaN   \n",
       "6405004       NaN  2020-01-31 22:10:00   2020-01-31 23:26:00              NaN   \n",
       "6405005       NaN  2020-01-31 22:50:07   2020-01-31 23:17:57              NaN   \n",
       "6405006       NaN  2020-01-31 22:25:53   2020-01-31 22:48:32              NaN   \n",
       "6405007       NaN  2020-01-31 22:44:00   2020-01-31 23:06:00              NaN   \n",
       "\n",
       "         trip_distance  RatecodeID store_and_fwd_flag  PULocationID  \\\n",
       "6405003           3.24         NaN                NaN           237   \n",
       "6405004          22.13         NaN                NaN           259   \n",
       "6405005          10.51         NaN                NaN           137   \n",
       "6405006           5.49         NaN                NaN            50   \n",
       "6405007          11.60         NaN                NaN           179   \n",
       "\n",
       "         DOLocationID  payment_type  fare_amount  extra  mta_tax  tip_amount  \\\n",
       "6405003           234           NaN        17.59   2.75      0.5         0.0   \n",
       "6405004            45           NaN        46.67   2.75      0.5         0.0   \n",
       "6405005           169           NaN        48.85   2.75      0.0         0.0   \n",
       "6405006            42           NaN        27.17   2.75      0.0         0.0   \n",
       "6405007           205           NaN        54.56   2.75      0.5         0.0   \n",
       "\n",
       "         tolls_amount  improvement_surcharge  total_amount  \\\n",
       "6405003          0.00                    0.3         21.14   \n",
       "6405004         12.24                    0.3         62.46   \n",
       "6405005          0.00                    0.3         51.90   \n",
       "6405006          0.00                    0.3         30.22   \n",
       "6405007          0.00                    0.3         58.11   \n",
       "\n",
       "         congestion_surcharge  \n",
       "6405003                   0.0  \n",
       "6405004                   0.0  \n",
       "6405005                   0.0  \n",
       "6405006                   0.0  \n",
       "6405007                   0.0  "
      ]
     },
     "execution_count": 716,
     "metadata": {},
     "output_type": "execute_result"
    }
   ],
   "source": [
    "df.tail()"
   ]
  },
  {
   "cell_type": "markdown",
   "id": "1d27eee0-7d16-4303-b566-f94b7c56d66f",
   "metadata": {},
   "source": [
    "# Exploratory Data Analysis"
   ]
  },
  {
   "cell_type": "code",
   "execution_count": 718,
   "id": "79347967-1c18-4970-bb7e-71a308ad73fd",
   "metadata": {},
   "outputs": [
    {
     "data": {
      "text/plain": [
       "(6405008, 18)"
      ]
     },
     "execution_count": 718,
     "metadata": {},
     "output_type": "execute_result"
    }
   ],
   "source": [
    "# row and columns of dataset\n",
    "df.shape"
   ]
  },
  {
   "cell_type": "code",
   "execution_count": 719,
   "id": "b29851c9-5a6c-43a8-a077-08b2724fc15c",
   "metadata": {},
   "outputs": [],
   "source": [
    "# Calculating duration from the pickup and dropoff datetime in minutes\n",
    "\n",
    "# converting pickup and dropoff to datetime \n",
    "df['tpep_pickup_datetime'] = pd.to_datetime(df['tpep_pickup_datetime'])\n",
    "df['tpep_dropoff_datetime'] = pd.to_datetime(df['tpep_dropoff_datetime'])\n",
    "\n",
    "# subtracting the pickup time from dropoff time to get duration\n",
    "df['duration'] = df['tpep_dropoff_datetime'] - df['tpep_pickup_datetime']\n",
    "\n",
    "# converting into minutes\n",
    "df['duration'] = df['duration'].dt.total_seconds()/60"
   ]
  },
  {
   "cell_type": "code",
   "execution_count": 720,
   "id": "bea49037-78a2-49f5-95fb-75799fd0f428",
   "metadata": {},
   "outputs": [
    {
     "data": {
      "text/plain": [
       "VendorID                        float64\n",
       "tpep_pickup_datetime     datetime64[ns]\n",
       "tpep_dropoff_datetime    datetime64[ns]\n",
       "passenger_count                 float64\n",
       "trip_distance                   float64\n",
       "RatecodeID                      float64\n",
       "store_and_fwd_flag               object\n",
       "PULocationID                      int64\n",
       "DOLocationID                      int64\n",
       "payment_type                    float64\n",
       "fare_amount                     float64\n",
       "extra                           float64\n",
       "mta_tax                         float64\n",
       "tip_amount                      float64\n",
       "tolls_amount                    float64\n",
       "improvement_surcharge           float64\n",
       "total_amount                    float64\n",
       "congestion_surcharge            float64\n",
       "duration                        float64\n",
       "dtype: object"
      ]
     },
     "execution_count": 720,
     "metadata": {},
     "output_type": "execute_result"
    }
   ],
   "source": [
    "# datatypes of data\n",
    "df.dtypes"
   ]
  },
  {
   "cell_type": "markdown",
   "id": "781e0736-f4dd-48c7-9569-7783c48fa0cc",
   "metadata": {},
   "source": [
    "The original dataset contains numerous columns, but many of them are not relevant to our current objective. Since our focus in this phase of the project is on analyzing the relationship between payment type and fare amount, we will streamline the dataset by selecting only the variables essential for this analysis.\n",
    "\n",
    "As outlined in the problem statement, we are interested in identifying whether payment method affects fare amount. Therefore, we retain only the following key features: passenger_count, trip_distance, trip_duration, payment_type, and fare_amount. These features will help us understand the key drivers of fare variation in the context of different payment methods, while removing unnecessary noise from the analysis."
   ]
  },
  {
   "cell_type": "code",
   "execution_count": 722,
   "id": "beafcc17-f6cc-41dd-9e56-99411e620203",
   "metadata": {},
   "outputs": [],
   "source": [
    "# dropping unwanted columns\n",
    "df.drop(['VendorID','tpep_pickup_datetime','tpep_dropoff_datetime',\n",
    "                'RatecodeID','store_and_fwd_flag','PULocationID','DOLocationID','extra',\n",
    "                'mta_tax', 'tip_amount', 'tolls_amount', 'improvement_surcharge'\n",
    "                ,'total_amount','congestion_surcharge'],\n",
    "               axis = 1, inplace = True)"
   ]
  },
  {
   "cell_type": "code",
   "execution_count": 723,
   "id": "991848b9-63ab-4d56-a80e-71a756fa4722",
   "metadata": {},
   "outputs": [
    {
     "data": {
      "text/html": [
       "<div>\n",
       "<style scoped>\n",
       "    .dataframe tbody tr th:only-of-type {\n",
       "        vertical-align: middle;\n",
       "    }\n",
       "\n",
       "    .dataframe tbody tr th {\n",
       "        vertical-align: top;\n",
       "    }\n",
       "\n",
       "    .dataframe thead th {\n",
       "        text-align: right;\n",
       "    }\n",
       "</style>\n",
       "<table border=\"1\" class=\"dataframe\">\n",
       "  <thead>\n",
       "    <tr style=\"text-align: right;\">\n",
       "      <th></th>\n",
       "      <th>passenger_count</th>\n",
       "      <th>trip_distance</th>\n",
       "      <th>payment_type</th>\n",
       "      <th>fare_amount</th>\n",
       "      <th>duration</th>\n",
       "    </tr>\n",
       "  </thead>\n",
       "  <tbody>\n",
       "    <tr>\n",
       "      <th>0</th>\n",
       "      <td>1.0</td>\n",
       "      <td>1.2</td>\n",
       "      <td>1.0</td>\n",
       "      <td>6.0</td>\n",
       "      <td>4.800000</td>\n",
       "    </tr>\n",
       "    <tr>\n",
       "      <th>1</th>\n",
       "      <td>1.0</td>\n",
       "      <td>1.2</td>\n",
       "      <td>1.0</td>\n",
       "      <td>7.0</td>\n",
       "      <td>7.416667</td>\n",
       "    </tr>\n",
       "    <tr>\n",
       "      <th>2</th>\n",
       "      <td>1.0</td>\n",
       "      <td>0.6</td>\n",
       "      <td>1.0</td>\n",
       "      <td>6.0</td>\n",
       "      <td>6.183333</td>\n",
       "    </tr>\n",
       "    <tr>\n",
       "      <th>3</th>\n",
       "      <td>1.0</td>\n",
       "      <td>0.8</td>\n",
       "      <td>1.0</td>\n",
       "      <td>5.5</td>\n",
       "      <td>4.850000</td>\n",
       "    </tr>\n",
       "    <tr>\n",
       "      <th>4</th>\n",
       "      <td>1.0</td>\n",
       "      <td>0.0</td>\n",
       "      <td>2.0</td>\n",
       "      <td>3.5</td>\n",
       "      <td>2.300000</td>\n",
       "    </tr>\n",
       "  </tbody>\n",
       "</table>\n",
       "</div>"
      ],
      "text/plain": [
       "   passenger_count  trip_distance  payment_type  fare_amount  duration\n",
       "0              1.0            1.2           1.0          6.0  4.800000\n",
       "1              1.0            1.2           1.0          7.0  7.416667\n",
       "2              1.0            0.6           1.0          6.0  6.183333\n",
       "3              1.0            0.8           1.0          5.5  4.850000\n",
       "4              1.0            0.0           2.0          3.5  2.300000"
      ]
     },
     "execution_count": 723,
     "metadata": {},
     "output_type": "execute_result"
    }
   ],
   "source": [
    "# filtered data with relevant columns essential for the analysis\n",
    "df.head()"
   ]
  },
  {
   "cell_type": "code",
   "execution_count": 724,
   "id": "829c0ff8-b716-4b26-b84e-2374a8889202",
   "metadata": {},
   "outputs": [
    {
     "data": {
      "text/plain": [
       "passenger_count    65441\n",
       "trip_distance          0\n",
       "payment_type       65441\n",
       "fare_amount            0\n",
       "duration               0\n",
       "dtype: int64"
      ]
     },
     "execution_count": 724,
     "metadata": {},
     "output_type": "execute_result"
    }
   ],
   "source": [
    "# checking for missing values\n",
    "df.isnull().sum()"
   ]
  },
  {
   "cell_type": "code",
   "execution_count": 725,
   "id": "eb6a9155-86a3-4cfc-9ed3-ce9b1e6c7f70",
   "metadata": {},
   "outputs": [
    {
     "name": "stdout",
     "output_type": "stream",
     "text": [
      "Missing data % 1.02\n"
     ]
    }
   ],
   "source": [
    "# percentage of missing data to the total record of the data\n",
    "print('Missing data %',round(65441/df.shape[0]*100,2))"
   ]
  },
  {
   "cell_type": "code",
   "execution_count": 726,
   "id": "619f8348-dc63-4607-a2b6-fafa000068f2",
   "metadata": {},
   "outputs": [],
   "source": [
    "# as the data has only 1% of data missing, we can simply drop the records with missing values.\n",
    "df.dropna(inplace = True)"
   ]
  },
  {
   "cell_type": "code",
   "execution_count": 727,
   "id": "89057272-69a0-42e4-b57e-7006a454d88c",
   "metadata": {},
   "outputs": [],
   "source": [
    "# changing the passenger count and payment type data type to integer as they are present in float\n",
    "df['passenger_count'] = df['passenger_count'].astype('int64')\n",
    "df['payment_type'] = df['payment_type'].astype('int64')"
   ]
  },
  {
   "cell_type": "code",
   "execution_count": 728,
   "id": "4166ed05-076f-4441-ac40-f3692994b3f9",
   "metadata": {},
   "outputs": [
    {
     "data": {
      "text/html": [
       "<div>\n",
       "<style scoped>\n",
       "    .dataframe tbody tr th:only-of-type {\n",
       "        vertical-align: middle;\n",
       "    }\n",
       "\n",
       "    .dataframe tbody tr th {\n",
       "        vertical-align: top;\n",
       "    }\n",
       "\n",
       "    .dataframe thead th {\n",
       "        text-align: right;\n",
       "    }\n",
       "</style>\n",
       "<table border=\"1\" class=\"dataframe\">\n",
       "  <thead>\n",
       "    <tr style=\"text-align: right;\">\n",
       "      <th></th>\n",
       "      <th>passenger_count</th>\n",
       "      <th>trip_distance</th>\n",
       "      <th>payment_type</th>\n",
       "      <th>fare_amount</th>\n",
       "      <th>duration</th>\n",
       "    </tr>\n",
       "  </thead>\n",
       "  <tbody>\n",
       "    <tr>\n",
       "      <th>2056</th>\n",
       "      <td>1</td>\n",
       "      <td>0.00</td>\n",
       "      <td>2</td>\n",
       "      <td>7.0</td>\n",
       "      <td>0.000000</td>\n",
       "    </tr>\n",
       "    <tr>\n",
       "      <th>2441</th>\n",
       "      <td>1</td>\n",
       "      <td>0.00</td>\n",
       "      <td>1</td>\n",
       "      <td>52.0</td>\n",
       "      <td>0.200000</td>\n",
       "    </tr>\n",
       "    <tr>\n",
       "      <th>2446</th>\n",
       "      <td>2</td>\n",
       "      <td>1.70</td>\n",
       "      <td>1</td>\n",
       "      <td>9.5</td>\n",
       "      <td>13.066667</td>\n",
       "    </tr>\n",
       "    <tr>\n",
       "      <th>2465</th>\n",
       "      <td>1</td>\n",
       "      <td>0.40</td>\n",
       "      <td>1</td>\n",
       "      <td>4.0</td>\n",
       "      <td>3.083333</td>\n",
       "    </tr>\n",
       "    <tr>\n",
       "      <th>3344</th>\n",
       "      <td>1</td>\n",
       "      <td>1.20</td>\n",
       "      <td>1</td>\n",
       "      <td>6.0</td>\n",
       "      <td>5.350000</td>\n",
       "    </tr>\n",
       "    <tr>\n",
       "      <th>...</th>\n",
       "      <td>...</td>\n",
       "      <td>...</td>\n",
       "      <td>...</td>\n",
       "      <td>...</td>\n",
       "      <td>...</td>\n",
       "    </tr>\n",
       "    <tr>\n",
       "      <th>6339558</th>\n",
       "      <td>1</td>\n",
       "      <td>1.63</td>\n",
       "      <td>2</td>\n",
       "      <td>8.0</td>\n",
       "      <td>8.800000</td>\n",
       "    </tr>\n",
       "    <tr>\n",
       "      <th>6339559</th>\n",
       "      <td>1</td>\n",
       "      <td>1.81</td>\n",
       "      <td>1</td>\n",
       "      <td>8.5</td>\n",
       "      <td>8.016667</td>\n",
       "    </tr>\n",
       "    <tr>\n",
       "      <th>6339560</th>\n",
       "      <td>1</td>\n",
       "      <td>0.98</td>\n",
       "      <td>2</td>\n",
       "      <td>6.5</td>\n",
       "      <td>6.900000</td>\n",
       "    </tr>\n",
       "    <tr>\n",
       "      <th>6339562</th>\n",
       "      <td>1</td>\n",
       "      <td>2.10</td>\n",
       "      <td>1</td>\n",
       "      <td>11.0</td>\n",
       "      <td>14.233333</td>\n",
       "    </tr>\n",
       "    <tr>\n",
       "      <th>6339565</th>\n",
       "      <td>1</td>\n",
       "      <td>1.61</td>\n",
       "      <td>2</td>\n",
       "      <td>8.5</td>\n",
       "      <td>9.633333</td>\n",
       "    </tr>\n",
       "  </tbody>\n",
       "</table>\n",
       "<p>3331706 rows × 5 columns</p>\n",
       "</div>"
      ],
      "text/plain": [
       "         passenger_count  trip_distance  payment_type  fare_amount   duration\n",
       "2056                   1           0.00             2          7.0   0.000000\n",
       "2441                   1           0.00             1         52.0   0.200000\n",
       "2446                   2           1.70             1          9.5  13.066667\n",
       "2465                   1           0.40             1          4.0   3.083333\n",
       "3344                   1           1.20             1          6.0   5.350000\n",
       "...                  ...            ...           ...          ...        ...\n",
       "6339558                1           1.63             2          8.0   8.800000\n",
       "6339559                1           1.81             1          8.5   8.016667\n",
       "6339560                1           0.98             2          6.5   6.900000\n",
       "6339562                1           2.10             1         11.0  14.233333\n",
       "6339565                1           1.61             2          8.5   9.633333\n",
       "\n",
       "[3331706 rows x 5 columns]"
      ]
     },
     "execution_count": 728,
     "metadata": {},
     "output_type": "execute_result"
    }
   ],
   "source": [
    "# checking for the duplicate rows \n",
    "df[df.duplicated()]"
   ]
  },
  {
   "cell_type": "code",
   "execution_count": 729,
   "id": "b79e170c-da09-47cb-8516-104ab0bffee0",
   "metadata": {},
   "outputs": [],
   "source": [
    "# removing duplicate rows as they will not contribute in analysis \n",
    "df.drop_duplicates(inplace = True)"
   ]
  },
  {
   "cell_type": "code",
   "execution_count": 730,
   "id": "15c35fa9-b8ad-45fd-89b9-f107b2ae7d16",
   "metadata": {},
   "outputs": [
    {
     "data": {
      "text/plain": [
       "(3007861, 5)"
      ]
     },
     "execution_count": 730,
     "metadata": {},
     "output_type": "execute_result"
    }
   ],
   "source": [
    "# after removing missing values and duplicate rows, we are left with following rows and columns\n",
    "df.shape"
   ]
  },
  {
   "cell_type": "code",
   "execution_count": 731,
   "id": "955995af-231b-4ad0-b5ea-5ad9f279bc02",
   "metadata": {},
   "outputs": [
    {
     "data": {
      "text/plain": [
       "passenger_count\n",
       "1    0.581981\n",
       "2    0.190350\n",
       "3    0.066360\n",
       "5    0.062937\n",
       "6    0.039272\n",
       "4    0.036046\n",
       "0    0.023033\n",
       "7    0.000009\n",
       "9    0.000006\n",
       "8    0.000006\n",
       "Name: proportion, dtype: float64"
      ]
     },
     "execution_count": 731,
     "metadata": {},
     "output_type": "execute_result"
    }
   ],
   "source": [
    "# passenger count distribution\n",
    "df['passenger_count'].value_counts(normalize = True)"
   ]
  },
  {
   "cell_type": "code",
   "execution_count": 732,
   "id": "8ec039fd-c063-403b-8720-b5b883b1fb19",
   "metadata": {},
   "outputs": [
    {
     "data": {
      "text/plain": [
       "payment_type\n",
       "1    2040133\n",
       "2     925137\n",
       "3      26233\n",
       "4      16357\n",
       "5          1\n",
       "Name: count, dtype: int64"
      ]
     },
     "execution_count": 732,
     "metadata": {},
     "output_type": "execute_result"
    }
   ],
   "source": [
    "# payment type distribution\n",
    "df['payment_type'].value_counts()"
   ]
  },
  {
   "cell_type": "markdown",
   "id": "dd6ec37b-f1a7-4e60-84e4-bda0aff2e4c1",
   "metadata": {},
   "source": [
    "In this analysis, we will focus exclusively on the two most common payment methods: **credit card and cash**, which are encoded as 1 and 2 in the dataset, respectively. To keep the analysis targeted and meaningful, we will exclude all other payment types such as \"No Charge\", \"Dispute\", or \"Unknown\", as they either occur infrequently or do not reflect standard transactions.\n",
    "\n",
    "Additionally, an inspection of the passenger count distribution reveals that trips with more than 5 passengers are rare, and trips with 0 passengers are invalid—since at least one passenger is needed to pay the fare. Therefore, we will further filter the data to include only trips with 1 to 5 passengers, ensuring that our dataset reflects realistic and common taxi ride scenarios."
   ]
  },
  {
   "cell_type": "code",
   "execution_count": 734,
   "id": "00016bc5-bc53-4e61-bcd7-357de2db8fdf",
   "metadata": {},
   "outputs": [],
   "source": [
    "# filtering for payment type 1 and 2\n",
    "df = df[df['payment_type']<3]\n",
    "\n",
    "# filtering for passenger count from 1 to 2\n",
    "df = df[(df['passenger_count']>0)&(df['passenger_count']<6)]"
   ]
  },
  {
   "cell_type": "code",
   "execution_count": 735,
   "id": "c4a54526-ae72-47c5-8b5a-1500eda75790",
   "metadata": {},
   "outputs": [],
   "source": [
    "# replacing the payment type encoded value 1 and 2 to Card and Cash\n",
    "df['payment_type'].replace([1,2],['Card','Cash'], inplace = True)"
   ]
  },
  {
   "cell_type": "code",
   "execution_count": 736,
   "id": "6da2353e-2695-424f-8a09-9333c2366b16",
   "metadata": {},
   "outputs": [
    {
     "data": {
      "text/html": [
       "<div>\n",
       "<style scoped>\n",
       "    .dataframe tbody tr th:only-of-type {\n",
       "        vertical-align: middle;\n",
       "    }\n",
       "\n",
       "    .dataframe tbody tr th {\n",
       "        vertical-align: top;\n",
       "    }\n",
       "\n",
       "    .dataframe thead th {\n",
       "        text-align: right;\n",
       "    }\n",
       "</style>\n",
       "<table border=\"1\" class=\"dataframe\">\n",
       "  <thead>\n",
       "    <tr style=\"text-align: right;\">\n",
       "      <th></th>\n",
       "      <th>passenger_count</th>\n",
       "      <th>trip_distance</th>\n",
       "      <th>fare_amount</th>\n",
       "      <th>duration</th>\n",
       "    </tr>\n",
       "  </thead>\n",
       "  <tbody>\n",
       "    <tr>\n",
       "      <th>count</th>\n",
       "      <td>2.780283e+06</td>\n",
       "      <td>2.780283e+06</td>\n",
       "      <td>2.780283e+06</td>\n",
       "      <td>2.780283e+06</td>\n",
       "    </tr>\n",
       "    <tr>\n",
       "      <th>mean</th>\n",
       "      <td>1.733386e+00</td>\n",
       "      <td>4.536729e+00</td>\n",
       "      <td>1.780567e+01</td>\n",
       "      <td>2.415478e+01</td>\n",
       "    </tr>\n",
       "    <tr>\n",
       "      <th>std</th>\n",
       "      <td>1.176652e+00</td>\n",
       "      <td>4.895890e+00</td>\n",
       "      <td>1.506997e+01</td>\n",
       "      <td>9.260031e+01</td>\n",
       "    </tr>\n",
       "    <tr>\n",
       "      <th>min</th>\n",
       "      <td>1.000000e+00</td>\n",
       "      <td>-2.218000e+01</td>\n",
       "      <td>-5.000000e+02</td>\n",
       "      <td>-2.770367e+03</td>\n",
       "    </tr>\n",
       "    <tr>\n",
       "      <th>25%</th>\n",
       "      <td>1.000000e+00</td>\n",
       "      <td>1.500000e+00</td>\n",
       "      <td>9.000000e+00</td>\n",
       "      <td>9.883333e+00</td>\n",
       "    </tr>\n",
       "    <tr>\n",
       "      <th>50%</th>\n",
       "      <td>1.000000e+00</td>\n",
       "      <td>2.730000e+00</td>\n",
       "      <td>1.300000e+01</td>\n",
       "      <td>1.573333e+01</td>\n",
       "    </tr>\n",
       "    <tr>\n",
       "      <th>75%</th>\n",
       "      <td>2.000000e+00</td>\n",
       "      <td>5.470000e+00</td>\n",
       "      <td>2.100000e+01</td>\n",
       "      <td>2.336667e+01</td>\n",
       "    </tr>\n",
       "    <tr>\n",
       "      <th>max</th>\n",
       "      <td>5.000000e+00</td>\n",
       "      <td>2.628800e+02</td>\n",
       "      <td>4.265000e+03</td>\n",
       "      <td>8.525117e+03</td>\n",
       "    </tr>\n",
       "  </tbody>\n",
       "</table>\n",
       "</div>"
      ],
      "text/plain": [
       "       passenger_count  trip_distance   fare_amount      duration\n",
       "count     2.780283e+06   2.780283e+06  2.780283e+06  2.780283e+06\n",
       "mean      1.733386e+00   4.536729e+00  1.780567e+01  2.415478e+01\n",
       "std       1.176652e+00   4.895890e+00  1.506997e+01  9.260031e+01\n",
       "min       1.000000e+00  -2.218000e+01 -5.000000e+02 -2.770367e+03\n",
       "25%       1.000000e+00   1.500000e+00  9.000000e+00  9.883333e+00\n",
       "50%       1.000000e+00   2.730000e+00  1.300000e+01  1.573333e+01\n",
       "75%       2.000000e+00   5.470000e+00  2.100000e+01  2.336667e+01\n",
       "max       5.000000e+00   2.628800e+02  4.265000e+03  8.525117e+03"
      ]
     },
     "execution_count": 736,
     "metadata": {},
     "output_type": "execute_result"
    }
   ],
   "source": [
    "# descriptive statistics for data\n",
    "df.describe()"
   ]
  },
  {
   "cell_type": "markdown",
   "id": "e58630f1-bcd4-4e9d-94e2-c63ab21d9d44",
   "metadata": {},
   "source": [
    "Upon reviewing the descriptive statistics of the dataset, it becomes evident that the minimum values for key features such as trip distance, fare amount, and trip duration are negative. These values are logically invalid and unrealistic for NYC taxi rides. Therefore, we will remove all records that contain negative values, as they can distort the analysis and introduce bias.\n",
    "\n",
    "Moreover, by comparing the maximum values against the median (50th percentile), it is clear that the dataset likely contains significant outliers, especially extremely high values. To ensure the integrity and reliability of our insights, these outliers will be identified and removed using reasonable upper thresholds."
   ]
  },
  {
   "cell_type": "code",
   "execution_count": 738,
   "id": "bdbeed00-f867-4651-bb2a-23793af8f56b",
   "metadata": {},
   "outputs": [],
   "source": [
    "# filtering the records for only positive values\n",
    "df = df[df['fare_amount']>0]\n",
    "df = df[df['trip_distance']>0]\n",
    "df = df[df['duration']>0]"
   ]
  },
  {
   "cell_type": "code",
   "execution_count": 739,
   "id": "00648704-7b05-4a96-9fb6-47d0cd8427a9",
   "metadata": {},
   "outputs": [
    {
     "data": {
      "image/png": "[encoded data removed]",
      "text/plain": [
       "<Figure size 640x480 with 1 Axes>"
      ]
     },
     "metadata": {},
     "output_type": "display_data"
    }
   ],
   "source": [
    "# checking for the outliers\n",
    "sns.boxplot(data=df, y=\"fare_amount\", x=\"payment_type\")\n",
    "plt.show()"
   ]
  },
  {
   "cell_type": "code",
   "execution_count": 740,
   "id": "e82e9ab5-fa57-415e-a695-61e71986e73d",
   "metadata": {},
   "outputs": [],
   "source": [
    "# removing outliers using interquartile range for the numerical variables\n",
    "for col in ['trip_distance','fare_amount','duration']:\n",
    "    Q1 = df[col].quantile(0.25)\n",
    "    Q3 = df[col].quantile(0.75)\n",
    "    IQR = Q3 - Q1\n",
    "    \n",
    "    # Defining lower and upper bounds for outliers\n",
    "    lower_bound = Q1 - 1.5 * IQR\n",
    "    upper_bound = Q3 + 1.5 * IQR\n",
    "    \n",
    "    # Filtering out outliers\n",
    "    df = df[(df[col] >= lower_bound) & (df[col] <= upper_bound)]\n"
   ]
  },
  {
   "cell_type": "markdown",
   "id": "4f50a31f-8944-40da-b6aa-5687828185f4",
   "metadata": {},
   "source": [
    "We are interested in exploring the relationship between **payment type and passenger behavior**, specifically in the context of trip **distance and fare amount**. Are there noticeable patterns or variations in how different payment methods (cash vs. card) are distributed across various fare ranges or trip lengths?\n",
    "\n",
    "To investigate this, we will create histograms to visualize how passenger counts and fare amounts are distributed across payment methods. This will help uncover any underlying behavioral trends and provide stakeholders with insights into fare ranges commonly associated with each payment type.\n"
   ]
  },
  {
   "cell_type": "code",
   "execution_count": 742,
   "id": "07018280-4b20-466e-a018-83fdbf0c225a",
   "metadata": {},
   "outputs": [
    {
     "data": {
      "image/png": "[encoded data removed]",
      "text/plain": [
       "<Figure size 1200x500 with 2 Axes>"
      ]
     },
     "metadata": {},
     "output_type": "display_data"
    },
    {
     "data": {
      "text/html": [
       "<div>\n",
       "<style scoped>\n",
       "    .dataframe tbody tr th:only-of-type {\n",
       "        vertical-align: middle;\n",
       "    }\n",
       "\n",
       "    .dataframe tbody tr th {\n",
       "        vertical-align: top;\n",
       "    }\n",
       "\n",
       "    .dataframe thead tr th {\n",
       "        text-align: left;\n",
       "    }\n",
       "\n",
       "    .dataframe thead tr:last-of-type th {\n",
       "        text-align: right;\n",
       "    }\n",
       "</style>\n",
       "<table border=\"1\" class=\"dataframe\">\n",
       "  <thead>\n",
       "    <tr>\n",
       "      <th></th>\n",
       "      <th colspan=\"2\" halign=\"left\">fare_amount</th>\n",
       "      <th colspan=\"2\" halign=\"left\">trip_distance</th>\n",
       "    </tr>\n",
       "    <tr>\n",
       "      <th></th>\n",
       "      <th>mean</th>\n",
       "      <th>std</th>\n",
       "      <th>mean</th>\n",
       "      <th>std</th>\n",
       "    </tr>\n",
       "    <tr>\n",
       "      <th>payment_type</th>\n",
       "      <th></th>\n",
       "      <th></th>\n",
       "      <th></th>\n",
       "      <th></th>\n",
       "    </tr>\n",
       "  </thead>\n",
       "  <tbody>\n",
       "    <tr>\n",
       "      <th>Card</th>\n",
       "      <td>13.701903</td>\n",
       "      <td>6.506356</td>\n",
       "      <td>3.230729</td>\n",
       "      <td>2.320528</td>\n",
       "    </tr>\n",
       "    <tr>\n",
       "      <th>Cash</th>\n",
       "      <td>12.250209</td>\n",
       "      <td>6.246104</td>\n",
       "      <td>2.803716</td>\n",
       "      <td>2.231871</td>\n",
       "    </tr>\n",
       "  </tbody>\n",
       "</table>\n",
       "</div>"
      ],
      "text/plain": [
       "             fare_amount           trip_distance          \n",
       "                    mean       std          mean       std\n",
       "payment_type                                              \n",
       "Card           13.701903  6.506356      3.230729  2.320528\n",
       "Cash           12.250209  6.246104      2.803716  2.231871"
      ]
     },
     "execution_count": 742,
     "metadata": {},
     "output_type": "execute_result"
    }
   ],
   "source": [
    "plt.figure(figsize=(12, 5))\n",
    "\n",
    "# Yellow Taxi Theme Colors\n",
    "card_color = '#FFD60A'        # Card\n",
    "cash_color = '#FF6B35'        # Cash\n",
    "edge_color = '#2E2E2E'        # Asphalt Black\n",
    "\n",
    "# Plot 1: Fare Amount Distribution \n",
    "plt.subplot(1, 2, 1)\n",
    "plt.title('Distribution of Fare Amount', fontsize=13, color=edge_color, fontweight = 'bold')\n",
    "plt.hist(df[df['payment_type'] == 'Card']['fare_amount'], \n",
    "         histtype='barstacked', bins=20, edgecolor=edge_color, \n",
    "         color=card_color, label='Card')\n",
    "plt.hist(df[df['payment_type'] == 'Cash']['fare_amount'], \n",
    "         histtype='barstacked', bins=20, edgecolor=edge_color, \n",
    "         color=cash_color, label='Cash')\n",
    "plt.xlabel('Fare Amount ($)', fontsize=11, color=edge_color)\n",
    "plt.ylabel('Number of Trips', fontsize=11, color=edge_color)\n",
    "plt.xticks(color=edge_color)\n",
    "plt.yticks(color=edge_color)\n",
    "plt.legend()\n",
    "\n",
    "# Plot 2: Trip Distance Distribution \n",
    "plt.subplot(1, 2, 2)\n",
    "plt.title('Distribution of Trip Distance', fontsize=13, color=edge_color, fontweight = 'bold')\n",
    "plt.hist(df[df['payment_type'] == 'Card']['trip_distance'], \n",
    "         histtype='barstacked', bins=20, edgecolor=edge_color, \n",
    "         color=card_color, label='Card')\n",
    "plt.hist(df[df['payment_type'] == 'Cash']['trip_distance'], \n",
    "         histtype='barstacked', bins=20, edgecolor=edge_color, \n",
    "         color=cash_color, label='Cash')\n",
    "plt.xlabel('Trip Distance (miles)', fontsize=11, color=edge_color)\n",
    "plt.ylabel('Number of Trips', fontsize=11, color=edge_color)\n",
    "plt.xticks(color=edge_color)\n",
    "plt.yticks(color=edge_color)\n",
    "plt.legend()\n",
    "\n",
    "plt.tight_layout()\n",
    "plt.show()\n",
    "\n",
    "# calculating the mean and standard deviation group by on payment type \n",
    "df.groupby('payment_type').agg({'fare_amount': ['mean', 'std',], 'trip_distance': ['mean', 'std'],})"
   ]
  },
  {
   "cell_type": "markdown",
   "id": "9c14436b-dde5-430a-a286-392fa5f42d3e",
   "metadata": {},
   "source": [
    "To examine passenger preferences regarding payment methods, we will assess the proportion of rides paid via card versus cash. A pie chart will be used to visually represent this distribution, offering a simple yet effective overview of how frequently each payment method is chosen. "
   ]
  },
  {
   "cell_type": "code",
   "execution_count": 744,
   "id": "56908cd0-dd75-437a-a041-ddc4ee0fa45d",
   "metadata": {},
   "outputs": [
    {
     "data": {
      "image/png": "[encoded data removed]",
      "text/plain": [
       "<Figure size 640x480 with 1 Axes>"
      ]
     },
     "metadata": {},
     "output_type": "display_data"
    }
   ],
   "source": [
    "# Yellow theme\n",
    "theme_colors = {\n",
    "    'Card': '#FFD60A',       # NYC Yellow\n",
    "    'Cash': '#FF6B35'        # Rush Hour Orange\n",
    "}\n",
    "\n",
    "# Plotting pie chart\n",
    "plt.title('Preference of Payment Type', fontweight='bold', fontsize=14, color='#2E2E2E')\n",
    "\n",
    "payment_counts = df['payment_type'].value_counts(normalize=True)\n",
    "labels = payment_counts.index\n",
    "sizes = payment_counts.values\n",
    "colors = [theme_colors[label] for label in labels]\n",
    "\n",
    "plt.pie(\n",
    "    sizes,\n",
    "    labels=labels,\n",
    "    startangle=90,\n",
    "    shadow=True,\n",
    "    autopct='%1.1f%%',\n",
    "    colors=colors,\n",
    "    textprops={'color': '#2E2E2E', 'fontsize': 11, 'fontweight':'bold'}\n",
    ")\n",
    "\n",
    "plt.axis('equal') \n",
    "plt.tight_layout()\n",
    "plt.show()\n"
   ]
  },
  {
   "cell_type": "markdown",
   "id": "6fa9fc66-7961-4188-83a4-a2a3cab9254e",
   "metadata": {},
   "source": [
    "Subsequently, **we aim to analyze how payment method preferences vary with the number of passengers in the cab.** The objective is to investigate whether the choice of payment type changes depending on how many people are traveling in a single ride.\n",
    "\n",
    "To facilitate this exploration, we employ a stacked bar chart, which is particularly useful for comparing the proportional distribution of payment methods across different passenger counts. This visual representation helps uncover any potential patterns or behavioral trends, offering insights into whether payment preferences shift with group size."
   ]
  },
  {
   "cell_type": "code",
   "execution_count": 746,
   "id": "3a84e44f-7628-4928-b158-a0f62cbd171e",
   "metadata": {},
   "outputs": [
    {
     "data": {
      "image/png": "[encoded data removed]",
      "text/plain": [
       "<Figure size 2000x600 with 1 Axes>"
      ]
     },
     "metadata": {},
     "output_type": "display_data"
    }
   ],
   "source": [
    "# calculating the total passenger count distribution based on the different payment type\n",
    "passenger_count = df.groupby(['payment_type', 'passenger_count'])[['passenger_count']].count()\n",
    "\n",
    "# renaming the passenger_count to count to reset the index\n",
    "passenger_count.rename(columns={'passenger_count': 'count'}, inplace=True)\n",
    "passenger_count.reset_index(inplace=True)\n",
    "\n",
    "# calculating the percentage of each passenger count\n",
    "passenger_count['perc'] = (passenger_count['count'] / passenger_count['count'].sum()) * 100\n",
    "\n",
    "# use a new DataFrame to store the visualization structure\n",
    "plot_df = pd.DataFrame(columns=['payment_type', 1, 2, 3, 4, 5])\n",
    "plot_df['payment_type'] = ['Card', 'Cash']\n",
    "plot_df.iloc[0, 1:] = passenger_count.iloc[0:5, -1].values  # Card percentages\n",
    "plot_df.iloc[1, 1:] = passenger_count.iloc[5:10, -1].values  # Cash percentages\n",
    "\n",
    "# NYC Yellow Taxi theme colors\n",
    "colors = ['#FFD60A', '#FF6B35', '#3C9D5B', '#295E89', '#7D5BA6']  # 1 to 5 passengers\n",
    "\n",
    "# plotting the stacked bar chart\n",
    "fig, ax = plt.subplots(figsize=(20, 6))\n",
    "plot_df.plot(x='payment_type', kind='barh', stacked=True, title='', ax=ax, color=colors)\n",
    "\n",
    "# custom title and labels\n",
    "ax.set_title('Passenger Count Distribution by Payment Type', fontsize=14, fontweight='bold', color='#2E2E2E')\n",
    "ax.set_xlabel('Percentage (%)', fontsize=12, color='#2E2E2E', fontweight = 'bold')\n",
    "ax.set_ylabel('Payment Type', fontsize=12, color='#2E2E2E', fontweight='bold')\n",
    "ax.tick_params(axis='x', colors='#2E2E2E')\n",
    "ax.tick_params(axis='y', colors='#2E2E2E')\n",
    "\n",
    "# add percentage text on each bar segment\n",
    "for p in ax.patches:\n",
    "    width = p.get_width()\n",
    "    height = p.get_height()\n",
    "    x, y = p.get_xy()\n",
    "    if width > 1:\n",
    "        ax.text(x + width / 2, y + height / 2,\n",
    "                '{:.0f}%'.format(width),\n",
    "                ha='center', va='center',\n",
    "                fontsize=14, fontweight='bold', color='#2E2E2E')\n",
    "\n",
    "plt.tight_layout()\n",
    "plt.show()\n",
    "\n"
   ]
  },
  {
   "cell_type": "markdown",
   "id": "64f8cafb-cacd-41f6-93ea-c30f5c476077",
   "metadata": {},
   "source": [
    "## Hypothesis Testing"
   ]
  },
  {
   "cell_type": "markdown",
   "id": "d5797769-a17f-43da-b7c3-0f05c252ced3",
   "metadata": {},
   "source": [
    "To select the most appropriate statistical test for our scenario, the first step is to evaluate whether the fare amount distribution follows a normal distribution. Although the earlier histogram suggests it may not, we will verify this more formally using a **Quantile–Quantile (QQ) plot.**\n",
    "\n",
    "QQ plots allow us to visually assess whether the distribution of fare amounts for each payment type is approximately normal. If the plotted data points lie roughly along the diagonal reference line, it indicates that the distribution is close to normal. Deviations from the line suggest skewness, kurtosis, or other non-normal behavior—helping us determine if parametric tests are appropriate for further analysis."
   ]
  },
  {
   "cell_type": "code",
   "execution_count": 749,
   "id": "c4233307-9fa5-4b43-aa84-cc94c1a97b5d",
   "metadata": {},
   "outputs": [
    {
     "data": {
      "image/png": "[encoded data removed]",
      "text/plain": [
       "<Figure size 640x480 with 1 Axes>"
      ]
     },
     "metadata": {},
     "output_type": "display_data"
    }
   ],
   "source": [
    "# creating Q-Q plot with 45-degree line added to plot\n",
    "fig = sm.qqplot(df['fare_amount'], line='45')\n",
    "plt.title('QQ Plot of Fare Amount', fontsize=14, fontweight='bold', color='#2E2E2E')\n",
    "plt.xlabel('Theoretical Quantiles', fontsize=12, color='#2E2E2E')\n",
    "plt.ylabel('Sample Quantiles', fontsize=12, color='#2E2E2E')\n",
    "plt.xticks(color='#2E2E2E')\n",
    "plt.yticks(color='#2E2E2E')\n",
    "plt.tight_layout()\n",
    "plt.show()"
   ]
  },
  {
   "cell_type": "markdown",
   "id": "aeadb91f-8ed0-4f3d-93ca-b6af73ecc2b9",
   "metadata": {},
   "source": [
    "From the QQ plot above, it's clear that the data points don’t follow the red 45-degree line — which means the fare amounts are not normally distributed. This rules out the use of a Z-test, since it assumes normality and requires population standard deviation, which we don’t have.\n",
    "\n",
    "Instead, we'll go with a T-test, which is a better fit for our situation. It works well even when the data isn’t perfectly normal, and it doesn't need the population standard deviation — just the sample. Since we’re comparing the average fare amounts between two independent groups (card vs. cash payments), the independent two-sample T-test is the right choice here.\n",
    "\n",
    "This is especially useful for our analysis of NYC Yellow Taxi records, where we’re dealing with a large sample and unknown population parameters. The T-test gives us a practical way to check if there’s any meaningful difference in fares based on the payment method.\n",
    "\n",
    "**Null Hypothesis (H₀): The average fare amount is the same for both card and cash payments.**\n",
    "\n",
    "**Alternative Hypothesis (H₁): The average fare amount is different between card and cash payments.**\n",
    "\n"
   ]
  },
  {
   "cell_type": "code",
   "execution_count": 751,
   "id": "42602898-8073-4415-8de3-155e2ae9562a",
   "metadata": {},
   "outputs": [
    {
     "name": "stdout",
     "output_type": "stream",
     "text": [
      "T-statistic: 165.59915491544626, P-value: 0.0\n",
      "\n",
      "Reject the null hypothesis\n"
     ]
    }
   ],
   "source": [
    "# Sample 1\n",
    "credit_card = df[df['payment_type'] == 'Card']['fare_amount']\n",
    "\n",
    "# Sample 2\n",
    "cash = df[df['payment_type'] == 'Cash']['fare_amount']\n",
    "\n",
    "#performing t test on both the different sample\n",
    "t_stat, p_value = stats.ttest_ind(a=credit_card, b=cash, equal_var = False)\n",
    "print(f\"T-statistic: {t_stat}, P-value: {p_value}\")\n",
    "\n",
    "# comparing the p value with the significance of 5% or 0.05\n",
    "if p_value < 0.05:\n",
    "    print(\"\\nReject the null hypothesis\")\n",
    "else:\n",
    "    print(\"\\nAccept the null hypothesis\")"
   ]
  },
  {
   "cell_type": "markdown",
   "id": "cc444792-51db-4f4a-98fc-5c8acc08b7c6",
   "metadata": {},
   "source": [
    "Since the p-value is far smaller than 0.05, we reject the null hypothesis.\n",
    "<br>\n",
    "<br>\n",
    "This means there's a statistically significant difference in the average fare amounts between rides paid by credit card and paid in cash.\n",
    "<br>\n",
    "<br>\n",
    "From a business perspective, this insight is important:<br>\n",
    "**Encouraging customers to pay with credit cards may lead to higher average fares, and in turn, generate more revenue for taxi drivers and fleet operators.**"
   ]
  }
 ],
 "metadata": {
  "kernelspec": {
   "display_name": "Python [conda env:base] *",
   "language": "python",
   "name": "conda-base-py"
  },
  "language_info": {
   "codemirror_mode": {
    "name": "ipython",
    "version": 3
   },
   "file_extension": ".py",
   "mimetype": "text/x-python",
   "name": "python",
   "nbconvert_exporter": "python",
   "pygments_lexer": "ipython3",
   "version": "3.12.7"
  }
 },
 "nbformat": 4,
 "nbformat_minor": 5
}
